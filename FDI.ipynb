{
 "cells": [
  {
   "cell_type": "code",
   "execution_count": 251,
   "metadata": {},
   "outputs": [],
   "source": [
    "import pandas as pd\n",
    "import os\n",
    "import Levenshtein\n",
    "from fuzzywuzzy import fuzz\n",
    "from fuzzywuzzy import process\n",
    "from itertools import product\n",
    "import nltk\n",
    "import numpy as np\n",
    "import re\n",
    "from collections import Counter\n",
    "from functools import reduce\n",
    "import seaborn as sns\n",
    "from scipy.stats import spearmanr, pearsonr"
   ]
  },
  {
   "cell_type": "code",
   "execution_count": 2,
   "metadata": {},
   "outputs": [
    {
     "name": "stderr",
     "output_type": "stream",
     "text": [
      "/Users/mcallistercs/anaconda/lib/python3.6/site-packages/IPython/core/interactiveshell.py:2785: DtypeWarning: Columns (1,2,3) have mixed types. Specify dtype option on import or set low_memory=False.\n",
      "  interactivity=interactivity, compiler=compiler, result=result)\n"
     ]
    }
   ],
   "source": [
    "data_path = os.path.join(os.getcwd(),'Export and Import Data','data.csv')\n",
    "data = pd.read_csv(data_path)"
   ]
  },
  {
   "cell_type": "code",
   "execution_count": 3,
   "metadata": {},
   "outputs": [],
   "source": [
    "fdi = pd.read_excel(r'10 Yr Investment Actvity_Ethiopia.xlsx')"
   ]
  },
  {
   "cell_type": "markdown",
   "metadata": {},
   "source": [
    "# Fuzzy String Matching\n",
    "Here we need to find the most similar `HS2_DSCRIPTION` for each `Investment Activity`. We'll use [token set ratios](https://chairnerd.seatgeek.com/fuzzywuzzy-fuzzy-string-matching-in-python/) to calculate string similarity.\n",
    "\n",
    "The output will be an excel file with a column for the unique investment activities and another column for the proposed matching hs2 descriptions. These will need to be manually reviewed. Once reviewed, we can conduct either a Pearson's R or Spearman's Rho test to see if the datasets follow linear or monotonic functions, respectively. If those are promising, we can perform further tests."
   ]
  },
  {
   "cell_type": "code",
   "execution_count": 4,
   "metadata": {},
   "outputs": [],
   "source": [
    "fdi_activities = list(set(fdi['Investment Activity']))\n",
    "hs2_descriptions = list(set(data['HS2_DSCRIPTION']))"
   ]
  },
  {
   "cell_type": "code",
   "execution_count": 5,
   "metadata": {},
   "outputs": [],
   "source": [
    "ratios_dict = {k:{'match':None,'score':None} for k in fdi_activities}\n",
    "alpha_re = re.compile('[^a-zA-Z]')\n",
    "en_stop = set(nltk.corpus.stopwords.words('english'))\n",
    "useless_words = ['parts','part','product','products','production','thereof','preparation','preparations',\n",
    "                 'manufacture','manufacturing','expansion','processing','process','general','(grade)',\n",
    "                 'one','excluding','grade','designated','specialized','similar','export','service']\n",
    "for w in useless_words:\n",
    "    en_stop.add(w)\n",
    "\n",
    "for activity in fdi_activities:\n",
    "    activity_tokens = [alpha_re.sub(\"\",word.lower()) for word in activity.split(' ') if alpha_re.sub(\"\",word.lower()) not in en_stop]\n",
    "    activity_clean = \" \".join(activity_tokens)\n",
    "    ratios = []\n",
    "    for hs2 in hs2_descriptions:\n",
    "        hs2_tokens = [alpha_re.sub(\"\",word.lower()) for word in hs2.split(' ') if alpha_re.sub(\"\",word.lower()) not in en_stop]\n",
    "        hs2_clean = \" \".join(hs2_tokens)\n",
    "        ratio = fuzz.token_set_ratio(activity_clean, hs2_clean)\n",
    "        ratios.append(ratio)\n",
    "    max_value = max(ratios)\n",
    "    max_index = ratios.index(max_value)\n",
    "    ratios_dict[activity]['match'] = hs2_descriptions[max_index]\n",
    "    ratios_dict[activity]['score'] = max_value"
   ]
  },
  {
   "cell_type": "code",
   "execution_count": 6,
   "metadata": {},
   "outputs": [],
   "source": [
    "matches = pd.DataFrame.from_dict(ratios_dict,orient='index').reset_index()\n",
    "matches.columns = ['Investment Activity','HS2 Description', 'Match Score']\n",
    "matches.sort_values(by=['HS2 Description','Match Score'],ascending=[False,False],inplace=True)"
   ]
  },
  {
   "cell_type": "code",
   "execution_count": 7,
   "metadata": {
    "scrolled": true
   },
   "outputs": [],
   "source": [
    "hs2_group = pd.DataFrame(matches.groupby(by='HS2 Description')['Investment Activity'].apply(lambda x: \"|\".join(x)))"
   ]
  },
  {
   "cell_type": "code",
   "execution_count": 8,
   "metadata": {},
   "outputs": [],
   "source": [
    "hs2_group.reset_index(inplace=True)"
   ]
  },
  {
   "cell_type": "code",
   "execution_count": 152,
   "metadata": {},
   "outputs": [],
   "source": [
    "#write to excel for manual review\n",
    "writer = pd.ExcelWriter('hs2_fdi_mapping.xlsx')\n",
    "hs2_group.to_excel(writer,'Sheet1')\n",
    "writer.save()"
   ]
  },
  {
   "cell_type": "markdown",
   "metadata": {},
   "source": [
    "# Joining the FDI and Ex-Im Data\n",
    "Now that we have a reviewed spreadsheet confirming the mapping between HS2 Descriptions and Investment Activities, we can calculate the 5-year percent change in Net Weight of imports and exports for each HS2 code. Then we can map those to the number of investment activities for each HS2 Code."
   ]
  },
  {
   "cell_type": "markdown",
   "metadata": {},
   "source": [
    "### FDI data"
   ]
  },
  {
   "cell_type": "code",
   "execution_count": 177,
   "metadata": {},
   "outputs": [],
   "source": [
    "def count_activities(x):\n",
    "    \"\"\"\n",
    "    This gets the number of investment activities in the Investment Activity column.\n",
    "    \"\"\"\n",
    "    if x is np.nan:\n",
    "        return 0\n",
    "    else:\n",
    "        return str(x).count(\"|\") + 1"
   ]
  },
  {
   "cell_type": "code",
   "execution_count": 178,
   "metadata": {},
   "outputs": [],
   "source": [
    "fdi_df = pd.read_excel('HS2_fdi_mapping_MH.xlsx')\n",
    "fdi_df['Investment Activity Count'] = fdi_df['Investment Activity'].apply(count_activities)\n",
    "fdi_df.drop(labels=['Investment Activity','COMMENTS'],axis=1,inplace=True)"
   ]
  },
  {
   "cell_type": "markdown",
   "metadata": {},
   "source": [
    "### Import Data"
   ]
  },
  {
   "cell_type": "code",
   "execution_count": 181,
   "metadata": {},
   "outputs": [],
   "source": [
    "import_df = data[data['Direction'] == 'import']\n",
    "import_df = pd.DataFrame(import_df.groupby(by=['HS2_DSCRIPTION','Year'])['Net Wt. (Kg)'].sum()).reset_index()\n",
    "import_df = import_df.pivot(index='HS2_DSCRIPTION',columns='Year')['Net Wt. (Kg)']\n",
    "assert(import_df.isnull().sum().sum()==0), \"There are some null values, so we can't do the 5-year change for all\"\n",
    "import_df = import_df.pct_change(axis=1,periods=4).drop(labels=[2013,2014,2015,2016],axis=1)\n",
    "import_df.reset_index(inplace=True)\n",
    "import_df.columns = ['HS2 Description','Five-Year Import Percent Change']"
   ]
  },
  {
   "cell_type": "code",
   "execution_count": 182,
   "metadata": {},
   "outputs": [
    {
     "data": {
      "text/plain": [
       "HS2 Description                    0\n",
       "Five-Year Import Percent Change    0\n",
       "dtype: int64"
      ]
     },
     "execution_count": 182,
     "metadata": {},
     "output_type": "execute_result"
    }
   ],
   "source": [
    "# Nulls\n",
    "import_df.isnull().sum()"
   ]
  },
  {
   "cell_type": "markdown",
   "metadata": {},
   "source": [
    "### Export Data"
   ]
  },
  {
   "cell_type": "code",
   "execution_count": 183,
   "metadata": {},
   "outputs": [
    {
     "ename": "AssertionError",
     "evalue": "There are some null values, so we can't do the 5-year change for all",
     "output_type": "error",
     "traceback": [
      "\u001b[0;31m---------------------------------------------------------------------------\u001b[0m",
      "\u001b[0;31mAssertionError\u001b[0m                            Traceback (most recent call last)",
      "\u001b[0;32m<ipython-input-183-31417a713f9c>\u001b[0m in \u001b[0;36m<module>\u001b[0;34m()\u001b[0m\n\u001b[1;32m      2\u001b[0m \u001b[0mexport_df\u001b[0m \u001b[0;34m=\u001b[0m \u001b[0mpd\u001b[0m\u001b[0;34m.\u001b[0m\u001b[0mDataFrame\u001b[0m\u001b[0;34m(\u001b[0m\u001b[0mexport_df\u001b[0m\u001b[0;34m.\u001b[0m\u001b[0mgroupby\u001b[0m\u001b[0;34m(\u001b[0m\u001b[0mby\u001b[0m\u001b[0;34m=\u001b[0m\u001b[0;34m[\u001b[0m\u001b[0;34m'HS2_DSCRIPTION'\u001b[0m\u001b[0;34m,\u001b[0m\u001b[0;34m'Year'\u001b[0m\u001b[0;34m]\u001b[0m\u001b[0;34m)\u001b[0m\u001b[0;34m[\u001b[0m\u001b[0;34m'Net Wt. (Kg)'\u001b[0m\u001b[0;34m]\u001b[0m\u001b[0;34m.\u001b[0m\u001b[0msum\u001b[0m\u001b[0;34m(\u001b[0m\u001b[0;34m)\u001b[0m\u001b[0;34m)\u001b[0m\u001b[0;34m.\u001b[0m\u001b[0mreset_index\u001b[0m\u001b[0;34m(\u001b[0m\u001b[0;34m)\u001b[0m\u001b[0;34m\u001b[0m\u001b[0m\n\u001b[1;32m      3\u001b[0m \u001b[0mexport_df\u001b[0m \u001b[0;34m=\u001b[0m \u001b[0mexport_df\u001b[0m\u001b[0;34m.\u001b[0m\u001b[0mpivot\u001b[0m\u001b[0;34m(\u001b[0m\u001b[0mindex\u001b[0m\u001b[0;34m=\u001b[0m\u001b[0;34m'HS2_DSCRIPTION'\u001b[0m\u001b[0;34m,\u001b[0m\u001b[0mcolumns\u001b[0m\u001b[0;34m=\u001b[0m\u001b[0;34m'Year'\u001b[0m\u001b[0;34m)\u001b[0m\u001b[0;34m[\u001b[0m\u001b[0;34m'Net Wt. (Kg)'\u001b[0m\u001b[0;34m]\u001b[0m\u001b[0;34m\u001b[0m\u001b[0m\n\u001b[0;32m----> 4\u001b[0;31m \u001b[0;32massert\u001b[0m\u001b[0;34m(\u001b[0m\u001b[0mexport_df\u001b[0m\u001b[0;34m.\u001b[0m\u001b[0misnull\u001b[0m\u001b[0;34m(\u001b[0m\u001b[0;34m)\u001b[0m\u001b[0;34m.\u001b[0m\u001b[0msum\u001b[0m\u001b[0;34m(\u001b[0m\u001b[0;34m)\u001b[0m\u001b[0;34m.\u001b[0m\u001b[0msum\u001b[0m\u001b[0;34m(\u001b[0m\u001b[0;34m)\u001b[0m\u001b[0;34m==\u001b[0m\u001b[0;36m0\u001b[0m\u001b[0;34m)\u001b[0m\u001b[0;34m,\u001b[0m \u001b[0;34m\"There are some null values, so we can't do the 5-year change for all\"\u001b[0m\u001b[0;34m\u001b[0m\u001b[0m\n\u001b[0m",
      "\u001b[0;31mAssertionError\u001b[0m: There are some null values, so we can't do the 5-year change for all"
     ]
    }
   ],
   "source": [
    "export_df = data[data['Direction'] == 'export']\n",
    "export_df = pd.DataFrame(export_df.groupby(by=['HS2_DSCRIPTION','Year'])['Net Wt. (Kg)'].sum()).reset_index()\n",
    "export_df = export_df.pivot(index='HS2_DSCRIPTION',columns='Year')['Net Wt. (Kg)']\n",
    "assert(export_df.isnull().sum().sum()==0), \"There are some null values, so we can't do the 5-year change for all\""
   ]
  },
  {
   "cell_type": "code",
   "execution_count": 184,
   "metadata": {
    "scrolled": true
   },
   "outputs": [],
   "source": [
    "#since we don't have five years of export data for every HS2 code, we'll use the first and last values to calculate\n",
    "#the percent change.\n",
    "last = export_df.ffill(axis=1).iloc[:,-1]\n",
    "first = export_df.bfill(axis=1).iloc[:, 0]\n",
    "export_df = pd.concat([first,last],axis=1).pct_change(axis=1).drop(labels=2013,axis=1).reset_index()\n",
    "export_df.columns = ['HS2 Description','Export Percent Change']"
   ]
  },
  {
   "cell_type": "code",
   "execution_count": 256,
   "metadata": {},
   "outputs": [
    {
     "data": {
      "text/plain": [
       "HS2 Description          0\n",
       "Export Percent Change    0\n",
       "dtype: int64"
      ]
     },
     "execution_count": 256,
     "metadata": {},
     "output_type": "execute_result"
    }
   ],
   "source": [
    "# Nulls\n",
    "export_df.isnull().sum()"
   ]
  },
  {
   "cell_type": "markdown",
   "metadata": {},
   "source": [
    "### Join the data together"
   ]
  },
  {
   "cell_type": "code",
   "execution_count": 185,
   "metadata": {},
   "outputs": [],
   "source": [
    "dfs = [fdi_df, import_df, export_df]\n",
    "df = reduce(lambda left,right: pd.merge(left,right,on='HS2 Description'), dfs)"
   ]
  },
  {
   "cell_type": "markdown",
   "metadata": {},
   "source": [
    "# Exploratory Data Analysis\n",
    "Here we'll check out the data distributions and correlations for our three data sets:\n",
    " - Investment Activity Count\n",
    " - Five-Year Import Percent Change\n",
    " - Export Percent Change"
   ]
  },
  {
   "cell_type": "code",
   "execution_count": 186,
   "metadata": {},
   "outputs": [
    {
     "data": {
      "text/html": [
       "<div>\n",
       "<style scoped>\n",
       "    .dataframe tbody tr th:only-of-type {\n",
       "        vertical-align: middle;\n",
       "    }\n",
       "\n",
       "    .dataframe tbody tr th {\n",
       "        vertical-align: top;\n",
       "    }\n",
       "\n",
       "    .dataframe thead th {\n",
       "        text-align: right;\n",
       "    }\n",
       "</style>\n",
       "<table border=\"1\" class=\"dataframe\">\n",
       "  <thead>\n",
       "    <tr style=\"text-align: right;\">\n",
       "      <th></th>\n",
       "      <th>HS2 Description</th>\n",
       "      <th>Investment Activity Count</th>\n",
       "      <th>Five-Year Import Percent Change</th>\n",
       "      <th>Export Percent Change</th>\n",
       "    </tr>\n",
       "  </thead>\n",
       "  <tbody>\n",
       "    <tr>\n",
       "      <th>0</th>\n",
       "      <td>AIRCRAFT, SPACECRAFT, AND PARTS OF</td>\n",
       "      <td>0</td>\n",
       "      <td>0.999930</td>\n",
       "      <td>-0.998470</td>\n",
       "    </tr>\n",
       "    <tr>\n",
       "      <th>1</th>\n",
       "      <td>ALBUMINOIDAL SUBS; MODIFIED STARCHES; GLUES; E...</td>\n",
       "      <td>0</td>\n",
       "      <td>0.202589</td>\n",
       "      <td>-0.417683</td>\n",
       "    </tr>\n",
       "    <tr>\n",
       "      <th>2</th>\n",
       "      <td>ALUMINIUM AND ARTICLES THEREOF</td>\n",
       "      <td>16</td>\n",
       "      <td>1.072135</td>\n",
       "      <td>0.438832</td>\n",
       "    </tr>\n",
       "    <tr>\n",
       "      <th>3</th>\n",
       "      <td>ANIMAL/VEG FATS &amp; OIL &amp; THEIR CLEAVAGE PRODUCT...</td>\n",
       "      <td>0</td>\n",
       "      <td>0.467529</td>\n",
       "      <td>-0.049008</td>\n",
       "    </tr>\n",
       "    <tr>\n",
       "      <th>4</th>\n",
       "      <td>ART OF APPAREL &amp; CLOTHING ACCESS, KNITTED OR C...</td>\n",
       "      <td>2</td>\n",
       "      <td>0.172629</td>\n",
       "      <td>1.243263</td>\n",
       "    </tr>\n",
       "  </tbody>\n",
       "</table>\n",
       "</div>"
      ],
      "text/plain": [
       "                                     HS2 Description  \\\n",
       "0                 AIRCRAFT, SPACECRAFT, AND PARTS OF   \n",
       "1  ALBUMINOIDAL SUBS; MODIFIED STARCHES; GLUES; E...   \n",
       "2                     ALUMINIUM AND ARTICLES THEREOF   \n",
       "3  ANIMAL/VEG FATS & OIL & THEIR CLEAVAGE PRODUCT...   \n",
       "4  ART OF APPAREL & CLOTHING ACCESS, KNITTED OR C...   \n",
       "\n",
       "   Investment Activity Count  Five-Year Import Percent Change  \\\n",
       "0                          0                         0.999930   \n",
       "1                          0                         0.202589   \n",
       "2                         16                         1.072135   \n",
       "3                          0                         0.467529   \n",
       "4                          2                         0.172629   \n",
       "\n",
       "   Export Percent Change  \n",
       "0              -0.998470  \n",
       "1              -0.417683  \n",
       "2               0.438832  \n",
       "3              -0.049008  \n",
       "4               1.243263  "
      ]
     },
     "execution_count": 186,
     "metadata": {},
     "output_type": "execute_result"
    }
   ],
   "source": [
    "df.head()"
   ]
  },
  {
   "cell_type": "code",
   "execution_count": 187,
   "metadata": {},
   "outputs": [
    {
     "data": {
      "text/plain": [
       "HS2 Description                    0\n",
       "Investment Activity Count          0\n",
       "Five-Year Import Percent Change    0\n",
       "Export Percent Change              0\n",
       "dtype: int64"
      ]
     },
     "execution_count": 187,
     "metadata": {},
     "output_type": "execute_result"
    }
   ],
   "source": [
    "df.isnull().sum()"
   ]
  },
  {
   "cell_type": "code",
   "execution_count": 188,
   "metadata": {},
   "outputs": [
    {
     "data": {
      "text/html": [
       "<div>\n",
       "<style scoped>\n",
       "    .dataframe tbody tr th:only-of-type {\n",
       "        vertical-align: middle;\n",
       "    }\n",
       "\n",
       "    .dataframe tbody tr th {\n",
       "        vertical-align: top;\n",
       "    }\n",
       "\n",
       "    .dataframe thead th {\n",
       "        text-align: right;\n",
       "    }\n",
       "</style>\n",
       "<table border=\"1\" class=\"dataframe\">\n",
       "  <thead>\n",
       "    <tr style=\"text-align: right;\">\n",
       "      <th></th>\n",
       "      <th>Investment Activity Count</th>\n",
       "      <th>Five-Year Import Percent Change</th>\n",
       "      <th>Export Percent Change</th>\n",
       "    </tr>\n",
       "  </thead>\n",
       "  <tbody>\n",
       "    <tr>\n",
       "      <th>count</th>\n",
       "      <td>94.000000</td>\n",
       "      <td>94.000000</td>\n",
       "      <td>9.400000e+01</td>\n",
       "    </tr>\n",
       "    <tr>\n",
       "      <th>mean</th>\n",
       "      <td>9.191489</td>\n",
       "      <td>3.007551</td>\n",
       "      <td>1.554976e+04</td>\n",
       "    </tr>\n",
       "    <tr>\n",
       "      <th>std</th>\n",
       "      <td>17.617365</td>\n",
       "      <td>12.000660</td>\n",
       "      <td>1.492006e+05</td>\n",
       "    </tr>\n",
       "    <tr>\n",
       "      <th>min</th>\n",
       "      <td>0.000000</td>\n",
       "      <td>-0.812819</td>\n",
       "      <td>-9.984703e-01</td>\n",
       "    </tr>\n",
       "    <tr>\n",
       "      <th>25%</th>\n",
       "      <td>0.000000</td>\n",
       "      <td>0.260891</td>\n",
       "      <td>-3.387754e-01</td>\n",
       "    </tr>\n",
       "    <tr>\n",
       "      <th>50%</th>\n",
       "      <td>3.000000</td>\n",
       "      <td>0.652225</td>\n",
       "      <td>1.782513e-01</td>\n",
       "    </tr>\n",
       "    <tr>\n",
       "      <th>75%</th>\n",
       "      <td>11.750000</td>\n",
       "      <td>1.183274</td>\n",
       "      <td>2.745656e+00</td>\n",
       "    </tr>\n",
       "    <tr>\n",
       "      <th>max</th>\n",
       "      <td>144.000000</td>\n",
       "      <td>98.656215</td>\n",
       "      <td>1.446674e+06</td>\n",
       "    </tr>\n",
       "  </tbody>\n",
       "</table>\n",
       "</div>"
      ],
      "text/plain": [
       "       Investment Activity Count  Five-Year Import Percent Change  \\\n",
       "count                  94.000000                        94.000000   \n",
       "mean                    9.191489                         3.007551   \n",
       "std                    17.617365                        12.000660   \n",
       "min                     0.000000                        -0.812819   \n",
       "25%                     0.000000                         0.260891   \n",
       "50%                     3.000000                         0.652225   \n",
       "75%                    11.750000                         1.183274   \n",
       "max                   144.000000                        98.656215   \n",
       "\n",
       "       Export Percent Change  \n",
       "count           9.400000e+01  \n",
       "mean            1.554976e+04  \n",
       "std             1.492006e+05  \n",
       "min            -9.984703e-01  \n",
       "25%            -3.387754e-01  \n",
       "50%             1.782513e-01  \n",
       "75%             2.745656e+00  \n",
       "max             1.446674e+06  "
      ]
     },
     "execution_count": 188,
     "metadata": {},
     "output_type": "execute_result"
    }
   ],
   "source": [
    "df.describe()"
   ]
  },
  {
   "cell_type": "markdown",
   "metadata": {},
   "source": [
    "### Distributions"
   ]
  },
  {
   "cell_type": "code",
   "execution_count": 189,
   "metadata": {},
   "outputs": [
    {
     "data": {
      "text/plain": [
       "<matplotlib.axes._subplots.AxesSubplot at 0x1a1fb32f60>"
      ]
     },
     "execution_count": 189,
     "metadata": {},
     "output_type": "execute_result"
    },
    {
     "data": {
      "image/png": "[encoded data removed]",
      "text/plain": [
       "<Figure size 432x288 with 1 Axes>"
      ]
     },
     "metadata": {},
     "output_type": "display_data"
    }
   ],
   "source": [
    "df['Investment Activity Count'].hist()"
   ]
  },
  {
   "cell_type": "code",
   "execution_count": 190,
   "metadata": {},
   "outputs": [
    {
     "data": {
      "text/plain": [
       "<matplotlib.axes._subplots.AxesSubplot at 0x1a3fd470b8>"
      ]
     },
     "execution_count": 190,
     "metadata": {},
     "output_type": "execute_result"
    },
    {
     "data": {
      "image/png": "[encoded data removed]",
      "text/plain": [
       "<Figure size 432x288 with 1 Axes>"
      ]
     },
     "metadata": {},
     "output_type": "display_data"
    }
   ],
   "source": [
    "df['Five-Year Import Percent Change'].hist()"
   ]
  },
  {
   "cell_type": "code",
   "execution_count": 192,
   "metadata": {},
   "outputs": [
    {
     "data": {
      "text/plain": [
       "<matplotlib.axes._subplots.AxesSubplot at 0x1a3fe33400>"
      ]
     },
     "execution_count": 192,
     "metadata": {},
     "output_type": "execute_result"
    },
    {
     "data": {
      "image/png": "[encoded data removed]",
      "text/plain": [
       "<Figure size 432x288 with 1 Axes>"
      ]
     },
     "metadata": {},
     "output_type": "display_data"
    }
   ],
   "source": [
    "#there's a very large max value here, so let's see it's effect on the dist\n",
    "df['Export Percent Change'].hist()"
   ]
  },
  {
   "cell_type": "code",
   "execution_count": 215,
   "metadata": {},
   "outputs": [
    {
     "name": "stderr",
     "output_type": "stream",
     "text": [
      "/Users/mcallistercs/anaconda/lib/python3.6/site-packages/matplotlib/axes/_axes.py:6462: UserWarning: The 'normed' kwarg is deprecated, and has been replaced by the 'density' kwarg.\n",
      "  warnings.warn(\"The 'normed' kwarg is deprecated, and has been \"\n"
     ]
    },
    {
     "data": {
      "text/plain": [
       "<matplotlib.axes._subplots.AxesSubplot at 0x1a3e1a0c18>"
      ]
     },
     "execution_count": 215,
     "metadata": {},
     "output_type": "execute_result"
    },
    {
     "data": {
      "image/png": "[encoded data removed]",
      "text/plain": [
       "<Figure size 432x288 with 1 Axes>"
      ]
     },
     "metadata": {},
     "output_type": "display_data"
    }
   ],
   "source": [
    "#let's drop outliers beyond +- 3 standard deviations for exports\n",
    "x = df[np.abs(df['Export Percent Change']-df['Export Percent Change'].mean()) <= (3*df['Export Percent Change'].std())]['Export Percent Change']\n",
    "sns.distplot(x)"
   ]
  },
  {
   "cell_type": "code",
   "execution_count": 222,
   "metadata": {},
   "outputs": [
    {
     "name": "stdout",
     "output_type": "stream",
     "text": [
      "Dropped 7 observations:\n",
      "\tELECTRICAL MCHY EQUIP PARTS THEREOF; SOUND RECORDER ETC\n",
      "\tSUGARS AND SUGAR CONFECTIONERY\n",
      "\tSILK\n",
      "\tVEHICLES O/T RAILW/TRANW ROOL-STOCK, PTS & ACCESSORIES\n",
      "\tCOPPER AND ARTICLES THEREOF\n",
      "\tFERTILISERS\n",
      "\tTOOL, IMPLEMENT, CUTLERY, SPOON & FORK, OF BASE MET ETC\n"
     ]
    },
    {
     "name": "stderr",
     "output_type": "stream",
     "text": [
      "/Users/mcallistercs/anaconda/lib/python3.6/site-packages/matplotlib/axes/_axes.py:6462: UserWarning: The 'normed' kwarg is deprecated, and has been replaced by the 'density' kwarg.\n",
      "  warnings.warn(\"The 'normed' kwarg is deprecated, and has been \"\n"
     ]
    },
    {
     "data": {
      "text/plain": [
       "<matplotlib.axes._subplots.AxesSubplot at 0x1a11deccf8>"
      ]
     },
     "execution_count": 222,
     "metadata": {},
     "output_type": "execute_result"
    },
    {
     "data": {
      "image/png": "[encoded data removed]",
      "text/plain": [
       "<Figure size 432x288 with 1 Axes>"
      ]
     },
     "metadata": {},
     "output_type": "display_data"
    }
   ],
   "source": [
    "#That didn't do much, so let's drop values > the max import value\n",
    "max_import_change = df['Five-Year Import Percent Change'].max()\n",
    "x = df[df['Export Percent Change']<=max_import_change]['Export Percent Change']\n",
    "print(f'Dropped {df.shape[0] - x.shape[0]} observations:')\n",
    "dropped_hs2s = set(df['HS2 Description']) - set(df[df['Export Percent Change']<=max_import_change]['HS2 Description'])\n",
    "for i in dropped_hs2s:\n",
    "    print(\"\\t\"+i)\n",
    "sns.distplot(x)"
   ]
  },
  {
   "cell_type": "markdown",
   "metadata": {},
   "source": [
    "### Regression Plots"
   ]
  },
  {
   "cell_type": "code",
   "execution_count": 234,
   "metadata": {},
   "outputs": [
    {
     "data": {
      "text/plain": [
       "<matplotlib.axes._subplots.AxesSubplot at 0x1a14c38d30>"
      ]
     },
     "execution_count": 234,
     "metadata": {},
     "output_type": "execute_result"
    },
    {
     "data": {
      "image/png": "[encoded data removed]",
      "text/plain": [
       "<Figure size 432x288 with 1 Axes>"
      ]
     },
     "metadata": {},
     "output_type": "display_data"
    }
   ],
   "source": [
    "#imports\n",
    "im_df = df\n",
    "sns.regplot(x=im_df['Investment Activity Count'], \n",
    "            y=im_df['Five-Year Import Percent Change'],\n",
    "            color=\"g\")"
   ]
  },
  {
   "cell_type": "code",
   "execution_count": 235,
   "metadata": {},
   "outputs": [
    {
     "data": {
      "text/plain": [
       "<matplotlib.axes._subplots.AxesSubplot at 0x1a14d0c6d8>"
      ]
     },
     "execution_count": 235,
     "metadata": {},
     "output_type": "execute_result"
    },
    {
     "data": {
      "image/png": "[encoded data removed]",
      "text/plain": [
       "<Figure size 432x288 with 1 Axes>"
      ]
     },
     "metadata": {},
     "output_type": "display_data"
    }
   ],
   "source": [
    "ex_df = df[~df['HS2 Description'].isin(dropped_hs2s)]\n",
    "sns.regplot(x=ex_df['Investment Activity Count'], \n",
    "            y=ex_df['Five-Year Import Percent Change'],\n",
    "            color=\"b\")"
   ]
  },
  {
   "cell_type": "markdown",
   "metadata": {},
   "source": [
    "# Testing\n",
    "Due to the absence of normal distributions in the data, we'll use the [Spearman correlation coefficient](https://en.wikipedia.org/wiki/Spearman%27s_rank_correlation_coefficient), which is a nonparametric measure of the [monotonicity](https://en.wikipedia.org/wiki/Monotonic_function) of the relationship between two datasets. Unlike the Pearson correlation coefficient, the Spearman correlation coefficient does make normality assumptions. Like other correlation coefficients, this one varies between -1 and +1 with 0 implying no correlation. Correlations of -1 or +1 imply an exact monotonic relationship. Positive correlations imply that as x increases, so does y. Negative correlations imply that as x increases, y decreases."
   ]
  },
  {
   "cell_type": "code",
   "execution_count": 257,
   "metadata": {},
   "outputs": [
    {
     "data": {
      "text/plain": [
       "SpearmanrResult(correlation=0.053115813751300624, pvalue=0.6111408045265478)"
      ]
     },
     "execution_count": 257,
     "metadata": {},
     "output_type": "execute_result"
    }
   ],
   "source": [
    "#Exports\n",
    "x=df['Investment Activity Count'].values \n",
    "y=df['Export Percent Change'].values\n",
    "spearmanr(x,y)"
   ]
  },
  {
   "cell_type": "code",
   "execution_count": 258,
   "metadata": {},
   "outputs": [
    {
     "data": {
      "text/plain": [
       "SpearmanrResult(correlation=0.00013483078841954396, pvalue=0.9990110799504959)"
      ]
     },
     "execution_count": 258,
     "metadata": {},
     "output_type": "execute_result"
    }
   ],
   "source": [
    "# Rerunning the tests after dropping export outliers\n",
    "#Exports\n",
    "x=ex_df['Investment Activity Count'].values \n",
    "y=ex_df['Export Percent Change'].values\n",
    "spearmanr(x,y)"
   ]
  },
  {
   "cell_type": "code",
   "execution_count": 247,
   "metadata": {},
   "outputs": [
    {
     "data": {
      "text/plain": [
       "SpearmanrResult(correlation=0.15481131827539996, pvalue=0.13625930473812314)"
      ]
     },
     "execution_count": 247,
     "metadata": {},
     "output_type": "execute_result"
    }
   ],
   "source": [
    "#Imports\n",
    "x=im_df['Investment Activity Count'].values \n",
    "y=im_df['Five-Year Import Percent Change'].values\n",
    "spearmanr(x,y)"
   ]
  },
  {
   "cell_type": "markdown",
   "metadata": {},
   "source": [
    "All of these tests give inconclusive results."
   ]
  },
  {
   "cell_type": "markdown",
   "metadata": {},
   "source": [
    "### Rerunning the test after dropping investment activity outliers"
   ]
  },
  {
   "cell_type": "code",
   "execution_count": 248,
   "metadata": {},
   "outputs": [],
   "source": [
    "im_df2 = im_df[np.abs(im_df['Investment Activity Count']-im_df['Investment Activity Count'].mean()) <= (3*im_df['Investment Activity Count'].std())]\n",
    "ex_df2 = ex_df[np.abs(ex_df['Investment Activity Count']-ex_df['Investment Activity Count'].mean()) <= (3*ex_df['Investment Activity Count'].std())]"
   ]
  },
  {
   "cell_type": "code",
   "execution_count": 249,
   "metadata": {},
   "outputs": [
    {
     "data": {
      "text/plain": [
       "SpearmanrResult(correlation=-0.02450374229497092, pvalue=0.8227987160003793)"
      ]
     },
     "execution_count": 249,
     "metadata": {},
     "output_type": "execute_result"
    }
   ],
   "source": [
    "#Exports\n",
    "x=ex_df2['Investment Activity Count'].values \n",
    "y=ex_df2['Export Percent Change'].values\n",
    "spearmanr(x,y)"
   ]
  },
  {
   "cell_type": "code",
   "execution_count": 250,
   "metadata": {},
   "outputs": [
    {
     "data": {
      "text/plain": [
       "SpearmanrResult(correlation=0.035354595120776176, pvalue=0.7365380653178577)"
      ]
     },
     "execution_count": 250,
     "metadata": {},
     "output_type": "execute_result"
    }
   ],
   "source": [
    "#Imports\n",
    "x=im_df2['Investment Activity Count'].values \n",
    "y=im_df2['Export Percent Change'].values\n",
    "spearmanr(x,y)"
   ]
  },
  {
   "cell_type": "markdown",
   "metadata": {},
   "source": [
    "Still nothing conclusive."
   ]
  }
 ],
 "metadata": {
  "kernelspec": {
   "display_name": "Python 3",
   "language": "python",
   "name": "python3"
  },
  "language_info": {
   "codemirror_mode": {
    "name": "ipython",
    "version": 3
   },
   "file_extension": ".py",
   "mimetype": "text/x-python",
   "name": "python",
   "nbconvert_exporter": "python",
   "pygments_lexer": "ipython3",
   "version": "3.6.5"
  }
 },
 "nbformat": 4,
 "nbformat_minor": 2
}
