{
 "cells": [
  {
   "cell_type": "markdown",
   "metadata": {},
   "source": [
    "# Joining and Validating ExIm Data\n",
    "\n",
    "### Joining the data\n",
    "Concatenate all of the export/import files into one dataframe with a common set of columns, optionally writing to csv as `data.csv`.\n",
    "\n",
    "### Cleaning the data\n",
    " - Need to homogenize the HS Descriptions so that there's a 1-1 mapping between them and the HS Codes.\n",
    " - EDA to find other issues"
   ]
  },
  {
   "cell_type": "code",
   "execution_count": 1,
   "metadata": {},
   "outputs": [],
   "source": [
    "import pandas as pd\n",
    "import os\n",
    "import numpy as np"
   ]
  },
  {
   "cell_type": "code",
   "execution_count": 2,
   "metadata": {},
   "outputs": [],
   "source": [
    "def parse_and_concat_files(write=False):\n",
    "    \"\"\"\n",
    "    Get a list of the excel files within the `Export and Import Data` dir,\n",
    "    convert them to dataframes, add some columns indicating import/export,\n",
    "    the HS2 Code, and the HS2 Description from chapter.xls. Optionally\n",
    "    write the data to your current working directory.\n",
    "\n",
    "    Returns:\n",
    "        data (pandas DataFrame):\n",
    "    \"\"\"\n",
    "\n",
    "    col_types = {'CIF Value (ETB)':float,\n",
    "             'CIF Value (USD)':float,\n",
    "             'CPC':str,\n",
    "             'Country (Consignment)':str,\n",
    "             'Country (Origin)':str,\n",
    "             'Destination':str,\n",
    "             'FOB Value (ETB)':float,\n",
    "             'FOB Value (USD)':float,\n",
    "             'Gross Wt. (Kg)':float,\n",
    "             'HS Code':str,\n",
    "             'HS Description':str,\n",
    "             'Month':str,\n",
    "             'Net Wt. (Kg)':float,\n",
    "             'Net.Wt. (Kg)':float,\n",
    "             'Quantity':float,\n",
    "             'Sup. Unit':str,\n",
    "             'Total tax (ETB)':float,\n",
    "             'Total tax (USD)':float,\n",
    "             'Unit':str,\n",
    "             'Year':str}\n",
    "\n",
    "    files = []\n",
    "    for dirpath, dirnames, filenames in os.walk(os.getcwd()):\n",
    "        for file in filenames:\n",
    "            if '.xls' in file and 'chapter' not in file and \"~$\" not in file:\n",
    "                files.append(file)\n",
    "\n",
    "    chapter = pd.read_excel(r'chapter.xls',dtype=str)\n",
    "    dfs = []\n",
    "    files_len = len(files)\n",
    "    for i, file in enumerate(files):\n",
    "        df = pd.read_excel(file,dtype=col_types)\n",
    "        if 'import' in file:\n",
    "            df['Destination'] = np.nan\n",
    "        else:\n",
    "            df['Country (Origin)'] = np.nan\n",
    "            df['Country (Consignment)'] = np.nan\n",
    "\n",
    "        df.rename({'Net.Wt. (Kg)':'Net Wt. (Kg)',\n",
    "                   'CIF Value (USD)':'Value (USD)',\n",
    "                   'CIF Value (ETB)':'Value (ETB)',\n",
    "                   'FOB Value (ETB)':'Value (ETB)',\n",
    "                   'FOB Value (USD)':'Value (USD)',\n",
    "                   'Sup. Unit':'Unit'},axis=1,inplace=True)\n",
    "        df['Direction'] = file[:file.index(\"_\")]\n",
    "        df['HS2'] = df['HS Code'].apply(lambda x: x[:2])\n",
    "        df = pd.merge(df,chapter[['HS2','HS2_DSCRIPTION']],on='HS2')\n",
    "        if i > 0:\n",
    "            last_cols = list(dfs[i-1].columns)\n",
    "            current_cols = sorted(df.columns)\n",
    "            assert (last_cols == current_cols),\"Column names weren't the same!\"\n",
    "\n",
    "        dfs.append(df[sorted(df.columns)])\n",
    "        print(\"Done parsing {} of {} files\".format(i+1,files_len))\n",
    "\n",
    "    data = pd.concat(dfs)\n",
    "    if write:\n",
    "        data.to_csv('data.csv',index=False)\n",
    "\n",
    "    return data"
   ]
  },
  {
   "cell_type": "code",
   "execution_count": 3,
   "metadata": {},
   "outputs": [
    {
     "name": "stdout",
     "output_type": "stream",
     "text": [
      "Done parsing 1 of 11 files\n",
      "Done parsing 2 of 11 files\n",
      "Done parsing 3 of 11 files\n",
      "Done parsing 4 of 11 files\n",
      "Done parsing 5 of 11 files\n",
      "Done parsing 6 of 11 files\n",
      "Done parsing 7 of 11 files\n",
      "Done parsing 8 of 11 files\n",
      "Done parsing 9 of 11 files\n",
      "Done parsing 10 of 11 files\n",
      "Done parsing 11 of 11 files\n"
     ]
    }
   ],
   "source": [
    "data = parse_and_concat_files()"
   ]
  },
  {
   "cell_type": "markdown",
   "metadata": {},
   "source": [
    "## Data Validation"
   ]
  }
 ],
 "metadata": {
  "kernelspec": {
   "display_name": "Python 3",
   "language": "python",
   "name": "python3"
  },
  "language_info": {
   "codemirror_mode": {
    "name": "ipython",
    "version": 3
   },
   "file_extension": ".py",
   "mimetype": "text/x-python",
   "name": "python",
   "nbconvert_exporter": "python",
   "pygments_lexer": "ipython3",
   "version": "3.6.5"
  }
 },
 "nbformat": 4,
 "nbformat_minor": 2
}
